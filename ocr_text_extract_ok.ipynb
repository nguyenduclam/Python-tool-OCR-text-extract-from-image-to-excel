{
  "nbformat": 4,
  "nbformat_minor": 0,
  "metadata": {
    "colab": {
      "name": "ocr_text_extract_ok.ipynb",
      "provenance": [],
      "collapsed_sections": [],
      "authorship_tag": "ABX9TyMoihLo1ZVeXrQ8qqSJR7Hs",
      "include_colab_link": true
    },
    "kernelspec": {
      "name": "python3",
      "display_name": "Python 3"
    }
  },
  "cells": [
    {
      "cell_type": "markdown",
      "metadata": {
        "id": "view-in-github",
        "colab_type": "text"
      },
      "source": [
        "<a href=\"https://colab.research.google.com/github/soiqualang/Python-tool-OCR-text-extract-from-image-to-excel/blob/master/ocr_text_extract_ok.ipynb\" target=\"_parent\"><img src=\"https://colab.research.google.com/assets/colab-badge.svg\" alt=\"Open In Colab\"/></a>"
      ]
    },
    {
      "cell_type": "markdown",
      "metadata": {
        "id": "XuWRbR1Dtszo",
        "colab_type": "text"
      },
      "source": [
        "# Tool extract excel tables from images\n",
        "\n",
        "> by soiqualang_chentreu"
      ]
    },
    {
      "cell_type": "markdown",
      "metadata": {
        "id": "LYUEkbfOyNRp",
        "colab_type": "text"
      },
      "source": [
        "## Hướng dẫn\n",
        "\n",
        "* Tạo thư mục tên `img_folder`\n",
        "* Định dạng hình ảnh phải là `*.jpg`\n",
        "* Upload hình ảnh vào folder `img_folder`\n",
        "* `Runtime` > `Run all` hoặc nhấn tổ hợp phím `Ctrl` `F9`\n",
        "* Kéo xuống dưới cùng, đợi ứng dụng chạy xong\n",
        "* Download file `excel_folder.zip`\n",
        "\n",
        "## Youtube\n",
        "\n",
        "https://youtu.be/TapPezyA2Ao"
      ]
    },
    {
      "cell_type": "code",
      "metadata": {
        "id": "e7bm2HT6pA1m",
        "colab_type": "code",
        "colab": {}
      },
      "source": [
        "# !rm -r sample_data/"
      ],
      "execution_count": null,
      "outputs": []
    },
    {
      "cell_type": "markdown",
      "metadata": {
        "id": "ORd5S-YRpCiC",
        "colab_type": "text"
      },
      "source": [
        "## Preferences\n",
        "\n",
        "https://gist.github.com/soiqualang/9024becf6e6b6321601b61e53bbcab6c\n",
        "\n",
        "https://towardsdatascience.com/a-table-detection-cell-recognition-and-text-extraction-algorithm-to-convert-tables-to-excel-files-902edcf289ec\n",
        "\n",
        "https://stackoverflow.com/questions/50951955/pytesseract-tesseractnotfound-error-tesseract-is-not-installed-or-its-not-i\n",
        "\n",
        "https://www.pyimagesearch.com/2017/07/10/using-tesseract-ocr-python/\n",
        "\n",
        "https://nanonets.com/blog/ocr-with-tesseract/\n",
        "\n",
        "## Cài đặt tesseract\n",
        "\n",
        "https://github.com/tesseract-ocr/tesseract/wiki"
      ]
    },
    {
      "cell_type": "code",
      "metadata": {
        "id": "pitiqpSBpgLG",
        "colab_type": "code",
        "colab": {}
      },
      "source": [
        "!pip install pytesseract"
      ],
      "execution_count": null,
      "outputs": []
    },
    {
      "cell_type": "code",
      "metadata": {
        "id": "WyYM370ap7OW",
        "colab_type": "code",
        "colab": {}
      },
      "source": [
        "# !sudo apt-get update\n",
        "# !sudo apt-get install libleptonica-dev \n",
        "# !sudo apt-get install tesseract-ocr tesseract-ocr-dev\n",
        "# !sudo apt-get install libtesseract-dev"
      ],
      "execution_count": null,
      "outputs": []
    },
    {
      "cell_type": "code",
      "metadata": {
        "id": "EJ_j1u_UrtTf",
        "colab_type": "code",
        "colab": {}
      },
      "source": [
        "!sudo apt install tesseract-ocr\n",
        "!sudo apt install libtesseract-dev"
      ],
      "execution_count": null,
      "outputs": []
    },
    {
      "cell_type": "code",
      "metadata": {
        "id": "LutDvR6RqGj2",
        "colab_type": "code",
        "colab": {}
      },
      "source": [
        "!pip install tesseract\n",
        "!pip install tesseract-ocr"
      ],
      "execution_count": null,
      "outputs": []
    },
    {
      "cell_type": "code",
      "metadata": {
        "id": "LlZAkpbkrQx3",
        "colab_type": "code",
        "colab": {}
      },
      "source": [
        "!tesseract"
      ],
      "execution_count": null,
      "outputs": []
    },
    {
      "cell_type": "code",
      "metadata": {
        "id": "eMVCUhyLpAy-",
        "colab_type": "code",
        "colab": {}
      },
      "source": [
        "import cv2\n",
        "import numpy as np\n",
        "import pandas as pd\n",
        "import matplotlib.pyplot as plt\n",
        "import csv\n",
        "\n",
        "import os\n",
        "from pathlib import Path\n",
        "import subprocess"
      ],
      "execution_count": null,
      "outputs": []
    },
    {
      "cell_type": "code",
      "metadata": {
        "id": "WJCWUFc5wCMQ",
        "colab_type": "code",
        "colab": {}
      },
      "source": [
        "\n",
        "def getFname(path):\n",
        "    #Quandao_HoangSa_VietNam.kml\n",
        "    if('/' in path):\n",
        "        arr1=path.split('/')\n",
        "    else:\n",
        "        arr1=path.split('\\\\')\n",
        "    return arr1[len(arr1)-1].replace(\".jpg\", \".xlsx\")\n",
        "\n",
        "def image2excel(imgfile,excelfile):\n",
        "\n",
        "    try:\n",
        "        from PIL import Image\n",
        "    except ImportError:\n",
        "        import Image\n",
        "    import pytesseract\n",
        "\n",
        "    #read your file\n",
        "    file=imgfile\n",
        "    img = cv2.imread(file,0)\n",
        "    img.shape\n",
        "\n",
        "    #thresholding the image to a binary image\n",
        "    thresh,img_bin = cv2.threshold(img,128,255,cv2.THRESH_BINARY | cv2.THRESH_OTSU)\n",
        "\n",
        "    #inverting the image \n",
        "    img_bin = 255-img_bin\n",
        "    cv2.imwrite('tmp/cv_inverted.png',img_bin)\n",
        "    #Plotting the image to see the output\n",
        "    plotting = plt.imshow(img_bin,cmap='gray')\n",
        "    # plt.show()\n",
        "\n",
        "    # countcol(width) of kernel as 100th of total width\n",
        "    kernel_len = np.array(img).shape[1]//100\n",
        "    # Defining a vertical kernel to detect all vertical lines of image \n",
        "    ver_kernel = cv2.getStructuringElement(cv2.MORPH_RECT, (1, kernel_len))\n",
        "    # Defining a horizontal kernel to detect all horizontal lines of image\n",
        "    hor_kernel = cv2.getStructuringElement(cv2.MORPH_RECT, (kernel_len, 1))\n",
        "    # A kernel of 2x2\n",
        "    kernel = cv2.getStructuringElement(cv2.MORPH_RECT, (2, 2))\n",
        "\n",
        "    #Use vertical kernel to detect and save the vertical lines in a jpg\n",
        "    image_1 = cv2.erode(img_bin, ver_kernel, iterations=3)\n",
        "    vertical_lines = cv2.dilate(image_1, ver_kernel, iterations=3)\n",
        "    cv2.imwrite(\"tmp/vertical.jpg\",vertical_lines)\n",
        "    #Plot the generated image\n",
        "    plotting = plt.imshow(image_1,cmap='gray')\n",
        "    # plt.show()\n",
        "\n",
        "    #Use horizontal kernel to detect and save the horizontal lines in a jpg\n",
        "    image_2 = cv2.erode(img_bin, hor_kernel, iterations=3)\n",
        "    horizontal_lines = cv2.dilate(image_2, hor_kernel, iterations=3)\n",
        "    cv2.imwrite(\"tmp/horizontal.jpg\",horizontal_lines)\n",
        "    #Plot the generated image\n",
        "    plotting = plt.imshow(image_2,cmap='gray')\n",
        "    # plt.show()\n",
        "\n",
        "    # Combine horizontal and vertical lines in a new third image, with both having same weight.\n",
        "    img_vh = cv2.addWeighted(vertical_lines, 0.5, horizontal_lines, 0.5, 0.0)\n",
        "    #Eroding and thesholding the image\n",
        "    img_vh = cv2.erode(~img_vh, kernel, iterations=2)\n",
        "    thresh, img_vh = cv2.threshold(img_vh,128,255, cv2.THRESH_BINARY | cv2.THRESH_OTSU)\n",
        "    cv2.imwrite(\"tmp/img_vh.jpg\", img_vh)\n",
        "    bitxor = cv2.bitwise_xor(img,img_vh)\n",
        "    bitnot = cv2.bitwise_not(bitxor)\n",
        "    #Plotting the generated image\n",
        "    plotting = plt.imshow(bitnot,cmap='gray')\n",
        "    # plt.show()\n",
        "\n",
        "    # Detect contours for following box detection\n",
        "    contours, hierarchy = cv2.findContours(img_vh, cv2.RETR_TREE, cv2.CHAIN_APPROX_SIMPLE)\n",
        "\n",
        "    def sort_contours(cnts, method=\"left-to-right\"):\n",
        "        # initialize the reverse flag and sort index\n",
        "        reverse = False\n",
        "        i = 0\n",
        "        # handle if we need to sort in reverse\n",
        "        if method == \"right-to-left\" or method == \"bottom-to-top\":\n",
        "            reverse = True\n",
        "        # handle if we are sorting against the y-coordinate rather than\n",
        "        # the x-coordinate of the bounding box\n",
        "        if method == \"top-to-bottom\" or method == \"bottom-to-top\":\n",
        "            i = 1\n",
        "        # construct the list of bounding boxes and sort them from top to\n",
        "        # bottom\n",
        "        boundingBoxes = [cv2.boundingRect(c) for c in cnts]\n",
        "        (cnts, boundingBoxes) = zip(*sorted(zip(cnts, boundingBoxes),\n",
        "        key=lambda b:b[1][i], reverse=reverse))\n",
        "        # return the list of sorted contours and bounding boxes\n",
        "        return (cnts, boundingBoxes)\n",
        "\n",
        "    # Sort all the contours by top to bottom.\n",
        "    contours, boundingBoxes = sort_contours(contours, method=\"top-to-bottom\")\n",
        "\n",
        "    #Creating a list of heights for all detected boxes\n",
        "    heights = [boundingBoxes[i][3] for i in range(len(boundingBoxes))]\n",
        "\n",
        "    #Get mean of heights\n",
        "    mean = np.mean(heights)\n",
        "\n",
        "    #Create list box to store all boxes in  \n",
        "    box = []\n",
        "    # Get position (x,y), width and height for every contour and show the contour on image\n",
        "    for c in contours:\n",
        "        x, y, w, h = cv2.boundingRect(c)\n",
        "        if (w<1000 and h<500):\n",
        "            image = cv2.rectangle(img,(x,y),(x+w,y+h),(0,255,0),2)\n",
        "            box.append([x,y,w,h])\n",
        "            \n",
        "    plotting = plt.imshow(image,cmap='gray')\n",
        "    # plt.show()\n",
        "\n",
        "    #Creating two lists to define row and column in which cell is located\n",
        "    row=[]\n",
        "    column=[]\n",
        "    j=0\n",
        "\n",
        "    #Sorting the boxes to their respective row and column\n",
        "    for i in range(len(box)):    \n",
        "            \n",
        "        if(i==0):\n",
        "            column.append(box[i])\n",
        "            previous=box[i]    \n",
        "        \n",
        "        else:\n",
        "            if(box[i][1]<=previous[1]+mean/2):\n",
        "                column.append(box[i])\n",
        "                previous=box[i]            \n",
        "                \n",
        "                if(i==len(box)-1):\n",
        "                    row.append(column)        \n",
        "                \n",
        "            else:\n",
        "                row.append(column)\n",
        "                column=[]\n",
        "                previous = box[i]\n",
        "                column.append(box[i])\n",
        "                \n",
        "    # print(column)\n",
        "    # print(row)\n",
        "\n",
        "    #calculating maximum number of cells\n",
        "    countcol = 0\n",
        "    for i in range(len(row)):\n",
        "        countcol = len(row[i])\n",
        "        if countcol > countcol:\n",
        "            countcol = countcol\n",
        "\n",
        "    #Retrieving the center of each column\n",
        "    center = [int(row[i][j][0]+row[i][j][2]/2) for j in range(len(row[i])) if row[0]]\n",
        "\n",
        "    center=np.array(center)\n",
        "    center.sort()\n",
        "    # print(center)\n",
        "    #Regarding the distance to the columns center, the boxes are arranged in respective order\n",
        "\n",
        "    finalboxes = []\n",
        "    for i in range(len(row)):\n",
        "        lis=[]\n",
        "        for k in range(countcol):\n",
        "            lis.append([])\n",
        "        for j in range(len(row[i])):\n",
        "            diff = abs(center-(row[i][j][0]+row[i][j][2]/4))\n",
        "            minimum = min(diff)\n",
        "            indexing = list(diff).index(minimum)\n",
        "            lis[indexing].append(row[i][j])\n",
        "        finalboxes.append(lis)\n",
        "\n",
        "\n",
        "    #from every single image-based cell/box the strings are extracted via pytesseract and stored in a list\n",
        "    outer=[]\n",
        "    for i in range(len(finalboxes)):\n",
        "        for j in range(len(finalboxes[i])):\n",
        "            inner=''\n",
        "            if(len(finalboxes[i][j])==0):\n",
        "                outer.append(' ')\n",
        "            else:\n",
        "                for k in range(len(finalboxes[i][j])):\n",
        "                    y,x,w,h = finalboxes[i][j][k][0],finalboxes[i][j][k][1], finalboxes[i][j][k][2],finalboxes[i][j][k][3]\n",
        "                    finalimg = bitnot[x:x+h, y:y+w]\n",
        "                    kernel = cv2.getStructuringElement(cv2.MORPH_RECT, (2, 1))\n",
        "                    border = cv2.copyMakeBorder(finalimg,2,2,2,2, cv2.BORDER_CONSTANT,value=[255,255])\n",
        "                    resizing = cv2.resize(border, None, fx=2, fy=2, interpolation=cv2.INTER_CUBIC)\n",
        "                    dilation = cv2.dilate(resizing, kernel,iterations=1)\n",
        "                    erosion = cv2.erode(dilation, kernel,iterations=2)\n",
        "                    \n",
        "                    out = pytesseract.image_to_string(erosion)\n",
        "                    if(len(out)==0):\n",
        "                        out = pytesseract.image_to_string(erosion, config='--psm 3')\n",
        "                    inner = inner +\" \"+ out\n",
        "                outer.append(inner)\n",
        "\n",
        "    #Creating a dataframe of the generated OCR list\n",
        "    arr = np.array(outer)\n",
        "    dataframe = pd.DataFrame(arr.reshape(len(row), countcol))\n",
        "    print(dataframe)\n",
        "    data = dataframe.style.set_properties(align=\"left\")\n",
        "    #Converting it in a excel-file\n",
        "    data.to_excel(excelfile)"
      ],
      "execution_count": null,
      "outputs": []
    },
    {
      "cell_type": "markdown",
      "metadata": {
        "id": "GHZT1WdG40Uk",
        "colab_type": "text"
      },
      "source": [
        "## Lưu ý\n",
        "\n",
        "Những lần chạy sau có thể chỉ cần chạy từ cell này trở xuống vì mình đã cài thư viện rồi"
      ]
    },
    {
      "cell_type": "markdown",
      "metadata": {
        "id": "Hvejzd3W42lZ",
        "colab_type": "text"
      },
      "source": [
        "## Xóa làm lại"
      ]
    },
    {
      "cell_type": "code",
      "metadata": {
        "id": "BlBZTJsgwF0P",
        "colab_type": "code",
        "colab": {}
      },
      "source": [
        "img_folder=Path('img_folder')\n",
        "excel_folder=Path('excel_folder')\n",
        "tmp=Path('tmp')\n",
        "\n",
        "# Xóa zip file\n",
        "if os.path.exists('excel_folder.zip'):\n",
        "    !rm excel_folder.zip\n",
        "\n",
        "# Kiểm tra đã có folder đầu ra chưa - excel_folder\n",
        "if os.path.exists(excel_folder):\n",
        "    !rm -r excel_folder\n",
        "    os.makedirs(excel_folder)\n",
        "else:\n",
        "    os.makedirs(excel_folder)\n",
        "# Kiểm tra đã có thư mục tạm chưa - tmp\n",
        "if os.path.exists(tmp):\n",
        "    !rm -r tmp\n",
        "    os.makedirs(tmp)\n",
        "else:\n",
        "    os.makedirs(tmp)"
      ],
      "execution_count": null,
      "outputs": []
    },
    {
      "cell_type": "markdown",
      "metadata": {
        "id": "dEadduLr443h",
        "colab_type": "text"
      },
      "source": [
        "## Bắt đầu convert"
      ]
    },
    {
      "cell_type": "code",
      "metadata": {
        "id": "5ox1S1SWx0hp",
        "colab_type": "code",
        "colab": {}
      },
      "source": [
        "for fdir in img_folder.glob('*.jpg'):\n",
        "    fname=getFname(str(fdir))\n",
        "    print('-----------')\n",
        "    print('Đang convert %s...' % (fname))    \n",
        "    image2excel(str(fdir),str(excel_folder)+'/'+str(fname))\n",
        "\n",
        "print('##################')\n",
        "print('##################')\n",
        "print('##################')\n",
        "print('Đang nén thành file excel_folder.zip...')\n",
        "cmd='zip -r excel_folder.zip '+str(excel_folder)\n",
        "p1 = subprocess.Popen(cmd,shell=True)\n",
        "p1.wait()\n",
        "print('Đã xong, mời bạn download file excel_folder.zip')"
      ],
      "execution_count": null,
      "outputs": []
    },
    {
      "cell_type": "code",
      "metadata": {
        "id": "6SoaVIjkq6e2",
        "colab_type": "code",
        "colab": {}
      },
      "source": [
        "# image2excel('h1.png','h1.xlsx')\n",
        "# image2excel('h2.jpg','h2.xlsx')"
      ],
      "execution_count": null,
      "outputs": []
    },
    {
      "cell_type": "code",
      "metadata": {
        "id": "SjD964sqvGDd",
        "colab_type": "code",
        "colab": {}
      },
      "source": [
        ""
      ],
      "execution_count": null,
      "outputs": []
    },
    {
      "cell_type": "code",
      "metadata": {
        "id": "FTlX6MlavSbO",
        "colab_type": "code",
        "colab": {}
      },
      "source": [
        ""
      ],
      "execution_count": null,
      "outputs": []
    }
  ]
}